{
 "cells": [
  {
   "cell_type": "markdown",
   "metadata": {},
   "source": [
    "# 01. Librerías y Datos"
   ]
  },
  {
   "cell_type": "code",
   "execution_count": 1,
   "metadata": {},
   "outputs": [],
   "source": [
    "import pandas as pd\n",
    "import numpy as np\n",
    "import pyodbc     \n",
    "import warnings\n",
    "\n",
    "\n",
    "warnings.filterwarnings(\"ignore\")"
   ]
  },
  {
   "cell_type": "code",
   "execution_count": 2,
   "metadata": {},
   "outputs": [],
   "source": [
    "accdb_file = r\"../data/Olympics2020.accdb\"\n",
    "conn_str = r'DRIVER={Microsoft Access Driver (*.mdb, *.accdb)};DBQ=' + accdb_file"
   ]
  },
  {
   "cell_type": "code",
   "execution_count": 3,
   "metadata": {},
   "outputs": [
    {
     "name": "stdout",
     "output_type": "stream",
     "text": [
      "Dataframes creados con éxito\n",
      "Tabla Errores APSC:  (314, 2)\n",
      "Tabla Errores LEAP:  (248, 2)\n",
      "Tabla Demográficos:  (4210, 9)\n",
      "Tabla BAU:  (10001, 103)\n",
      "Tabla Frescura:  (3879, 4)\n",
      "Tabla Ofertas:  (7727, 33)\n",
      "Tabla Resell:  (10000, 51)\n",
      "Tabla Sucursales:  (713, 6)\n"
     ]
    }
   ],
   "source": [
    "try:\n",
    "    conn = pyodbc.connect(conn_str)\n",
    "    table_name = 'your_table_name'\n",
    "    df_errores_apsc = pd.read_sql(\"SELECT * FROM Codigos_errores_APSC\", conn)\n",
    "    df_errores_leap = pd.read_sql(\"SELECT * FROM Codigos_errores_LEAP\", conn)\n",
    "    df_demograficos = pd.read_sql(\"SELECT * FROM Demograficos_relacionados_suc\", conn)\n",
    "    df_bau = pd.read_sql(\"SELECT * FROM e_bau\", conn)\n",
    "    df_frescura = pd.read_sql(\"SELECT * FROM e_Frescura\", conn)\n",
    "    df_ofertas = pd.read_sql(\"SELECT * FROM e_Ofertas\", conn)\n",
    "    df_resell = pd.read_sql(\"SELECT * FROM e_resell\", conn)\n",
    "    df_sucursales = pd.read_sql(\"SELECT * FROM Suc_divisional\", conn)\n",
    "except pyodbc.Error as ex:\n",
    "    print(\"Error:\", ex)\n",
    "    exit()\n",
    "\n",
    "print(\"Dataframes creados con éxito\")\n",
    "print(\"Tabla Errores APSC: \", df_errores_apsc.shape)\n",
    "print(\"Tabla Errores LEAP: \", df_errores_leap.shape)\n",
    "print(\"Tabla Demográficos: \", df_demograficos.shape)\n",
    "print(\"Tabla BAU: \", df_bau.shape)\n",
    "print(\"Tabla Frescura: \", df_frescura.shape)\n",
    "print(\"Tabla Ofertas: \", df_ofertas.shape)\n",
    "print(\"Tabla Resell: \", df_resell.shape)\n",
    "print(\"Tabla Sucursales: \", df_sucursales.shape)\n",
    "\n",
    "conn.close()"
   ]
  },
  {
   "cell_type": "code",
   "execution_count": 4,
   "metadata": {},
   "outputs": [],
   "source": [
    "df_errores_apsc.to_csv(\"../data/df_errores_apsc.csv\", index=False)\n",
    "df_errores_leap.to_csv(\"../data/df_errores_leap.csv\", index=False)\n",
    "df_demograficos.to_csv(\"../data/df_demograficos.csv\", index=False)\n",
    "df_bau.to_csv(\"../data/df_bau.csv\", index=False)\n",
    "df_frescura.to_csv(\"../data/df_frescura.csv\", index=False)\n",
    "df_ofertas.to_csv(\"../data/df_ofertas.csv\", index=False)\n",
    "df_resell.to_csv(\"../data/df_resell.csv\", index=False)\n",
    "df_sucursales.to_csv(\"../data/df_sucursales.csv\", index=False)"
   ]
  },
  {
   "cell_type": "markdown",
   "metadata": {},
   "source": [
    "# 02. Exploración de Datos"
   ]
  },
  {
   "cell_type": "code",
   "execution_count": 13,
   "metadata": {},
   "outputs": [
    {
     "name": "stdout",
     "output_type": "stream",
     "text": [
      "<class 'pandas.core.frame.DataFrame'>\n",
      "RangeIndex: 10001 entries, 0 to 10000\n",
      "Columns: 103 entries, customeraccount to F103\n",
      "dtypes: datetime64[ns](1), float64(57), object(45)\n",
      "memory usage: 7.9+ MB\n",
      "None\n"
     ]
    }
   ],
   "source": [
    "#info of each column\n",
    "print(df_bau.info())"
   ]
  }
 ],
 "metadata": {
  "kernelspec": {
   "display_name": ".venv",
   "language": "python",
   "name": "python3"
  },
  "language_info": {
   "codemirror_mode": {
    "name": "ipython",
    "version": 3
   },
   "file_extension": ".py",
   "mimetype": "text/x-python",
   "name": "python",
   "nbconvert_exporter": "python",
   "pygments_lexer": "ipython3",
   "version": "3.9.13"
  }
 },
 "nbformat": 4,
 "nbformat_minor": 2
}
